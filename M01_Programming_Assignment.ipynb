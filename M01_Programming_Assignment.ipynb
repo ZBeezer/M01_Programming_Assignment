{
 "cells": [
  {
   "cell_type": "code",
   "execution_count": 3,
   "id": "d829c2ff-61b7-4ed7-aa49-e63fe6b618f3",
   "metadata": {},
   "outputs": [
    {
     "data": {
      "text/plain": [
       "3600"
      ]
     },
     "execution_count": 3,
     "metadata": {},
     "output_type": "execute_result"
    }
   ],
   "source": [
    "#3.1\n",
    "#60 seconds * 60 minutes = 3600 seconds in an hour\n",
    "60 * 60"
   ]
  },
  {
   "cell_type": "code",
   "execution_count": 5,
   "id": "f80f7dc0-a1fa-4bd9-a3dc-99dc2512eee2",
   "metadata": {},
   "outputs": [],
   "source": [
    "#3.2\n",
    "assigning previous result to seconds_per_hour\n",
    "seconds_per_hour = 60*60"
   ]
  },
  {
   "cell_type": "code",
   "execution_count": 6,
   "id": "0966edad-f621-48ae-8f90-533b825bbb08",
   "metadata": {},
   "outputs": [
    {
     "data": {
      "text/plain": [
       "86400"
      ]
     },
     "execution_count": 6,
     "metadata": {},
     "output_type": "execute_result"
    }
   ],
   "source": [
    "#3.3\n",
    "#3600 seconds per hour * 24 hours = 86,400 seconds in a day\n",
    "seconds_per_hour * 24"
   ]
  },
  {
   "cell_type": "code",
   "execution_count": 7,
   "id": "5bf9f752-1223-47c0-b828-15029923eb6a",
   "metadata": {},
   "outputs": [],
   "source": [
    "#3.4\n",
    "seconds_per_day = seconds_per_hour * 24"
   ]
  },
  {
   "cell_type": "code",
   "execution_count": 8,
   "id": "76eddbdb-6e87-4571-be49-6d03d8a51cfe",
   "metadata": {},
   "outputs": [
    {
     "data": {
      "text/plain": [
       "24.0"
      ]
     },
     "execution_count": 8,
     "metadata": {},
     "output_type": "execute_result"
    }
   ],
   "source": [
    "#3.5\n",
    "seconds_per_day / seconds_per_hour"
   ]
  },
  {
   "cell_type": "code",
   "execution_count": 9,
   "id": "f6e9be8f-5756-481c-85f8-3f332650b5c5",
   "metadata": {},
   "outputs": [
    {
     "data": {
      "text/plain": [
       "24"
      ]
     },
     "execution_count": 9,
     "metadata": {},
     "output_type": "execute_result"
    }
   ],
   "source": [
    "#3.6\n",
    "seconds_per_day // seconds_per_hour"
   ]
  },
  {
   "cell_type": "code",
   "execution_count": null,
   "id": "e18da2d0-a97e-4c5f-8a86-ff78cc0fb4bb",
   "metadata": {},
   "outputs": [],
   "source": [
    "#yes, the results from 3.5 and 3.6 both agree aside from the final .0"
   ]
  }
 ],
 "metadata": {
  "kernelspec": {
   "display_name": "Python 3 (ipykernel)",
   "language": "python",
   "name": "python3"
  },
  "language_info": {
   "codemirror_mode": {
    "name": "ipython",
    "version": 3
   },
   "file_extension": ".py",
   "mimetype": "text/x-python",
   "name": "python",
   "nbconvert_exporter": "python",
   "pygments_lexer": "ipython3",
   "version": "3.11.7"
  }
 },
 "nbformat": 4,
 "nbformat_minor": 5
}
